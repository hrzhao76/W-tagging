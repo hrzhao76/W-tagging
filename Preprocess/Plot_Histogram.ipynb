{
 "cells": [
  {
   "cell_type": "code",
   "execution_count": 1,
   "metadata": {
    "scrolled": true
   },
   "outputs": [
    {
     "name": "stdout",
     "output_type": "stream",
     "text": [
      "Welcome to JupyROOT 6.20/02\n"
     ]
    }
   ],
   "source": [
    "from ROOT import TCanvas, TH1F, TPad, TFile, TLegend, TPaveLabel, TLatex, TPaveText, gStyle\n",
    "from ROOT import gROOT\n",
    "import h5py\n",
    "%jsroot on"
   ]
  },
  {
   "cell_type": "markdown",
   "metadata": {},
   "source": [
    "## Read Data from files and save to root file"
   ]
  },
  {
   "cell_type": "code",
   "execution_count": 3,
   "metadata": {},
   "outputs": [],
   "source": [
    "test_file = h5py.File(\"/Volumes/MacOS/Research/Data/high-level/test_no_pile_5000000.h5\", \"r\")\n",
    "train_file = h5py.File(\"/Volumes/MacOS/Research/Data/high-level/train_no_pile_10000000.h5\", \"r\")"
   ]
  },
  {
   "cell_type": "code",
   "execution_count": 4,
   "metadata": {},
   "outputs": [],
   "source": [
    "files = [test_file, train_file]\n",
    "f=TFile(\"High_Level_Variables.root\",\"recreate\")\n",
    "#f=TFile(\"test.root\",\"recreate\")"
   ]
  },
  {
   "cell_type": "code",
   "execution_count": 5,
   "metadata": {},
   "outputs": [],
   "source": [
    "variables_signal = ['mass_signal', 'C_21_signal', 'C_22_signal', 'D_21_signal', 'D_22_signal', 'tau21_signal']\n",
    "variables_background = ['mass_background', 'C_21_background', 'C_22_background', 'D_21_background', 'D_22_background', 'tau21_background']\n",
    "\n",
    "variables_range = [200, 0.5, 0.2, 5., 5., 1.]\n",
    "variables_name = ['Trimmed Mass', 'C_21', 'C_22', 'D_21', 'D_22', 'tau21']"
   ]
  },
  {
   "cell_type": "code",
   "execution_count": 6,
   "metadata": {},
   "outputs": [
    {
     "ename": "KeyboardInterrupt",
     "evalue": "",
     "output_type": "error",
     "traceback": [
      "\u001b[0;31m---------------------------------------------------------------------------\u001b[0m",
      "\u001b[0;31mKeyboardInterrupt\u001b[0m                         Traceback (most recent call last)",
      "\u001b[0;32m<ipython-input-6-8d9381f95aa7>\u001b[0m in \u001b[0;36m<module>\u001b[0;34m\u001b[0m\n\u001b[1;32m      9\u001b[0m         \u001b[0;32mfor\u001b[0m \u001b[0mj\u001b[0m \u001b[0;32min\u001b[0m \u001b[0mrange\u001b[0m\u001b[0;34m(\u001b[0m\u001b[0;36m0\u001b[0m\u001b[0;34m,\u001b[0m\u001b[0mNum\u001b[0m\u001b[0;34m)\u001b[0m\u001b[0;34m:\u001b[0m\u001b[0;34m\u001b[0m\u001b[0;34m\u001b[0m\u001b[0m\n\u001b[1;32m     10\u001b[0m             \u001b[0;32mif\u001b[0m \u001b[0mtargets\u001b[0m\u001b[0;34m[\u001b[0m\u001b[0mj\u001b[0m\u001b[0;34m]\u001b[0m \u001b[0;34m==\u001b[0m \u001b[0;36m1.\u001b[0m \u001b[0;34m:\u001b[0m\u001b[0;34m\u001b[0m\u001b[0;34m\u001b[0m\u001b[0m\n\u001b[0;32m---> 11\u001b[0;31m                 \u001b[0mh1f\u001b[0m\u001b[0;34m.\u001b[0m\u001b[0mFill\u001b[0m\u001b[0;34m(\u001b[0m\u001b[0mfeatures\u001b[0m\u001b[0;34m[\u001b[0m\u001b[0mj\u001b[0m\u001b[0;34m,\u001b[0m\u001b[0mx\u001b[0m\u001b[0;34m]\u001b[0m\u001b[0;34m)\u001b[0m\u001b[0;34m\u001b[0m\u001b[0;34m\u001b[0m\u001b[0m\n\u001b[0m\u001b[1;32m     12\u001b[0m                 \u001b[0;32mpass\u001b[0m\u001b[0;34m\u001b[0m\u001b[0;34m\u001b[0m\u001b[0m\n\u001b[1;32m     13\u001b[0m             \u001b[0;32melse\u001b[0m \u001b[0;34m:\u001b[0m\u001b[0;34m\u001b[0m\u001b[0;34m\u001b[0m\u001b[0m\n",
      "\u001b[0;32mh5py/_objects.pyx\u001b[0m in \u001b[0;36mh5py._objects.with_phil.wrapper\u001b[0;34m()\u001b[0m\n",
      "\u001b[0;32mh5py/_objects.pyx\u001b[0m in \u001b[0;36mh5py._objects.with_phil.wrapper\u001b[0;34m()\u001b[0m\n",
      "\u001b[0;32m/usr/local/lib/python3.7/site-packages/h5py/_hl/dataset.py\u001b[0m in \u001b[0;36m__getitem__\u001b[0;34m(self, args)\u001b[0m\n\u001b[1;32m    536\u001b[0m         \u001b[0;31m# === Scalar dataspaces =================\u001b[0m\u001b[0;34m\u001b[0m\u001b[0;34m\u001b[0m\u001b[0;34m\u001b[0m\u001b[0m\n\u001b[1;32m    537\u001b[0m \u001b[0;34m\u001b[0m\u001b[0m\n\u001b[0;32m--> 538\u001b[0;31m         \u001b[0;32mif\u001b[0m \u001b[0mself\u001b[0m\u001b[0;34m.\u001b[0m\u001b[0mshape\u001b[0m \u001b[0;34m==\u001b[0m \u001b[0;34m(\u001b[0m\u001b[0;34m)\u001b[0m\u001b[0;34m:\u001b[0m\u001b[0;34m\u001b[0m\u001b[0;34m\u001b[0m\u001b[0m\n\u001b[0m\u001b[1;32m    539\u001b[0m             \u001b[0mfspace\u001b[0m \u001b[0;34m=\u001b[0m \u001b[0mself\u001b[0m\u001b[0;34m.\u001b[0m\u001b[0mid\u001b[0m\u001b[0;34m.\u001b[0m\u001b[0mget_space\u001b[0m\u001b[0;34m(\u001b[0m\u001b[0;34m)\u001b[0m\u001b[0;34m\u001b[0m\u001b[0;34m\u001b[0m\u001b[0m\n\u001b[1;32m    540\u001b[0m             \u001b[0mselection\u001b[0m \u001b[0;34m=\u001b[0m \u001b[0msel2\u001b[0m\u001b[0;34m.\u001b[0m\u001b[0mselect_read\u001b[0m\u001b[0;34m(\u001b[0m\u001b[0mfspace\u001b[0m\u001b[0;34m,\u001b[0m \u001b[0margs\u001b[0m\u001b[0;34m)\u001b[0m\u001b[0;34m\u001b[0m\u001b[0;34m\u001b[0m\u001b[0m\n",
      "\u001b[0;32mh5py/_objects.pyx\u001b[0m in \u001b[0;36mh5py._objects.with_phil.wrapper\u001b[0;34m()\u001b[0m\n",
      "\u001b[0;32mh5py/_objects.pyx\u001b[0m in \u001b[0;36mh5py._objects.with_phil.wrapper\u001b[0;34m()\u001b[0m\n",
      "\u001b[0;32m/usr/local/lib/python3.7/site-packages/h5py/_hl/dataset.py\u001b[0m in \u001b[0;36mshape\u001b[0;34m(self)\u001b[0m\n\u001b[1;32m    280\u001b[0m         \u001b[0;32mreturn\u001b[0m \u001b[0mself\u001b[0m\u001b[0;34m.\u001b[0m\u001b[0mid\u001b[0m\u001b[0;34m.\u001b[0m\u001b[0mrank\u001b[0m\u001b[0;34m\u001b[0m\u001b[0;34m\u001b[0m\u001b[0m\n\u001b[1;32m    281\u001b[0m \u001b[0;34m\u001b[0m\u001b[0m\n\u001b[0;32m--> 282\u001b[0;31m     \u001b[0;34m@\u001b[0m\u001b[0mproperty\u001b[0m\u001b[0;34m\u001b[0m\u001b[0;34m\u001b[0m\u001b[0m\n\u001b[0m\u001b[1;32m    283\u001b[0m     \u001b[0;34m@\u001b[0m\u001b[0mwith_phil\u001b[0m\u001b[0;34m\u001b[0m\u001b[0;34m\u001b[0m\u001b[0m\n\u001b[1;32m    284\u001b[0m     \u001b[0;32mdef\u001b[0m \u001b[0mshape\u001b[0m\u001b[0;34m(\u001b[0m\u001b[0mself\u001b[0m\u001b[0;34m)\u001b[0m\u001b[0;34m:\u001b[0m\u001b[0;34m\u001b[0m\u001b[0;34m\u001b[0m\u001b[0m\n",
      "\u001b[0;31mKeyboardInterrupt\u001b[0m: "
     ]
    }
   ],
   "source": [
    "for x in range(0,5):\n",
    "    h1f = TH1F( variables_signal[x], variables_name[x] , 100, 0, variables_range[x] )\n",
    "    h2f = TH1F( variables_background[x], variables_name[x] , 100, 0, variables_range[x] )\n",
    "    for i in range(0, len(files)):        \n",
    "        #Num = 10000\n",
    "        features = files[i]['features']\n",
    "        targets = files[i]['targets']\n",
    "        Num = len(features)\n",
    "        for j in range(0,Num):\n",
    "            if targets[j] == 1. :\n",
    "                h1f.Fill(features[j,x])\n",
    "                pass\n",
    "            else : \n",
    "                h2f.Fill(features[j,x])\n",
    "            pass\n",
    "        del features, targets\n",
    "    pass\n",
    "    h1f.Write()\n",
    "    h2f.Write()\n",
    "\n",
    "    del h1f, h2f\n",
    "    pass\n",
    "\n",
    "f.Close()"
   ]
  },
  {
   "cell_type": "markdown",
   "metadata": {},
   "source": [
    "## Read Data from root files and plot"
   ]
  },
  {
   "cell_type": "code",
   "execution_count": null,
   "metadata": {},
   "outputs": [],
   "source": [
    "\n",
    "h1f = TH1F( variables_signal[0], variables_name[0] , 100, 0, variables_range[0] )\n",
    "h2f = TH1F( variables_background[0], variables_name[0] , 100, 0, variables_range[0] )\n",
    "\n",
    "for i in range(0, len(files)):\n",
    "    #Num = len(dset)\n",
    "    Num = 10000\n",
    "    features = files[i]['features']\n",
    "    targets = files[i]['targets']\n",
    "    for j in range(0,Num):\n",
    "        if targets[j] == 1. :\n",
    "            h1f.Fill(features[j,0])\n",
    "            pass\n",
    "        else : \n",
    "            h2f.Fill(features[j,0])\n",
    "        pass\n",
    "    del features, targets\n",
    "\n",
    "\n",
    "h1f.Write()\n",
    "h2f.Write()\n",
    "\n",
    "del h1f, h2f"
   ]
  },
  {
   "cell_type": "code",
   "execution_count": null,
   "metadata": {},
   "outputs": [],
   "source": [
    "f1_h1f = TH1F( 'mass_signal_f1_h1f', 'Trimmed Mass ', 100, 0, 200 )\n",
    "f1_h2f = TH1F( 'mass_background_f1_h2f', 'Trimmed Mass ', 100, 0, 200 )\n",
    "\n",
    "f2_h1f = TH1F( 'mass_signal_f2_h1f', 'Trimmed Mass ', 100, 0, 200 )\n",
    "f2_h2f = TH1F( 'mass_background_f2_h2f', 'Trimmed Mass ', 100, 0, 200 )\n",
    "\n",
    "h1f=[f1_h1f, f2_h1f]\n",
    "h2f=[f1_h2f, f2_h2f]\n",
    "for i in range(0, len(files)):\n",
    "    features = files[i]['features']\n",
    "    targets = files[i]['targets']\n",
    "    for j in range(0,Num):\n",
    "        if targets[j] == 1. :\n",
    "            h1f[i].Fill(features[j,0])\n",
    "            pass\n",
    "        else : \n",
    "            h2f[i].Fill(features[j,0])\n",
    "        pass\n",
    "    h1f[i].Write()\n",
    "    h2f[i].Write()\n",
    "    del features, targets\n",
    "\n"
   ]
  },
  {
   "cell_type": "code",
   "execution_count": null,
   "metadata": {},
   "outputs": [],
   "source": [
    "h1f.Scale(1./h1f.GetEntries())\n",
    "h2f.Scale(1./h2f.GetEntries())\n",
    "\n",
    "h1f.GetXaxis().SetTitle(\"Trimmed Mass\")\n",
    "h1f.GetYaxis().SetTitle(\"Fraction of Events\")\n",
    "\n",
    "h1f.SetLineColor(2)\n",
    "h1f.Draw(\"hist\")\n",
    "\n",
    "h2f.SetLineColor(4)\n",
    "h2f.Draw(\"hist same\")\n",
    "\n",
    "legend = TLegend(0.65,0.7,0.85,0.85)\n",
    "legend.AddEntry(h1f, \"W #rightarrow qq\")\n",
    "legend.AddEntry(h2f, \"QCD\")\n",
    "legend.SetTextSize(0.04)\n",
    "legend.Draw()\n",
    "\n",
    "c1.SaveAs(\"mass.eps\")\n"
   ]
  },
  {
   "cell_type": "code",
   "execution_count": null,
   "metadata": {},
   "outputs": [],
   "source": [
    "f=TFile(\"demo.root\",\"recreate\")"
   ]
  },
  {
   "cell_type": "code",
   "execution_count": null,
   "metadata": {},
   "outputs": [],
   "source": [
    "h1f.Write()"
   ]
  },
  {
   "cell_type": "code",
   "execution_count": null,
   "metadata": {},
   "outputs": [],
   "source": [
    "h2f.Write()"
   ]
  },
  {
   "cell_type": "code",
   "execution_count": null,
   "metadata": {},
   "outputs": [],
   "source": [
    "f.Close()"
   ]
  },
  {
   "cell_type": "code",
   "execution_count": null,
   "metadata": {},
   "outputs": [],
   "source": [
    "for j in range(0,Num):\n",
    "    if targets[j] == 1. :\n",
    "        f1_h1f.Fill(features[j,0])\n",
    "        pass\n",
    "    else : \n",
    "        f1_h2f.Fill(features[j,0])\n",
    "    pass\n"
   ]
  }
 ],
 "metadata": {
  "kernelspec": {
   "display_name": "Python 3",
   "language": "python",
   "name": "python3"
  },
  "language_info": {
   "codemirror_mode": {
    "name": "ipython",
    "version": 3
   },
   "file_extension": ".py",
   "mimetype": "text/x-python",
   "name": "python",
   "nbconvert_exporter": "python",
   "pygments_lexer": "ipython3",
   "version": "3.7.7"
  }
 },
 "nbformat": 4,
 "nbformat_minor": 4
}
